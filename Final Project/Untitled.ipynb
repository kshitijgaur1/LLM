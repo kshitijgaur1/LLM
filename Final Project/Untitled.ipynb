{
 "cells": [
  {
   "cell_type": "code",
   "execution_count": 1,
   "id": "9e4631c8-1ded-4593-bc0e-b3f27e4cccee",
   "metadata": {
    "scrolled": true
   },
   "outputs": [
    {
     "name": "stdout",
     "output_type": "stream",
     "text": [
      "Requirement already satisfied: langchain==0.0.284 in /Users/kshitijgaur/langchain_env/lib/python3.11/site-packages (from -r requirements.txt (line 1)) (0.0.284)\n",
      "Requirement already satisfied: python-dotenv==1.0.0 in /Users/kshitijgaur/langchain_env/lib/python3.11/site-packages (from -r requirements.txt (line 2)) (1.0.0)\n",
      "Requirement already satisfied: streamlit==1.22.0 in /Users/kshitijgaur/langchain_env/lib/python3.11/site-packages (from -r requirements.txt (line 3)) (1.22.0)\n",
      "Requirement already satisfied: unstructured==0.9.2 in /Users/kshitijgaur/langchain_env/lib/python3.11/site-packages (from -r requirements.txt (line 4)) (0.9.2)\n",
      "Requirement already satisfied: tiktoken==0.4.0 in /Users/kshitijgaur/langchain_env/lib/python3.11/site-packages (from -r requirements.txt (line 5)) (0.4.0)\n",
      "Requirement already satisfied: faiss-cpu==1.7.4 in /Users/kshitijgaur/langchain_env/lib/python3.11/site-packages (from -r requirements.txt (line 6)) (1.7.4)\n",
      "Requirement already satisfied: libmagic==1.0 in /Users/kshitijgaur/langchain_env/lib/python3.11/site-packages (from -r requirements.txt (line 7)) (1.0)\n",
      "Requirement already satisfied: python-magic==0.4.27 in /Users/kshitijgaur/langchain_env/lib/python3.11/site-packages (from -r requirements.txt (line 8)) (0.4.27)\n",
      "Requirement already satisfied: python-magic-bin==0.4.14 in /Users/kshitijgaur/langchain_env/lib/python3.11/site-packages (from -r requirements.txt (line 9)) (0.4.14)\n",
      "Requirement already satisfied: OpenAI==0.28.0 in /Users/kshitijgaur/langchain_env/lib/python3.11/site-packages (from -r requirements.txt (line 10)) (0.28.0)\n",
      "Requirement already satisfied: PyYAML>=5.3 in /Users/kshitijgaur/langchain_env/lib/python3.11/site-packages (from langchain==0.0.284->-r requirements.txt (line 1)) (6.0.2)\n",
      "Requirement already satisfied: SQLAlchemy<3,>=1.4 in /Users/kshitijgaur/langchain_env/lib/python3.11/site-packages (from langchain==0.0.284->-r requirements.txt (line 1)) (2.0.36)\n",
      "Requirement already satisfied: aiohttp<4.0.0,>=3.8.3 in /Users/kshitijgaur/langchain_env/lib/python3.11/site-packages (from langchain==0.0.284->-r requirements.txt (line 1)) (3.11.11)\n",
      "Requirement already satisfied: dataclasses-json<0.6.0,>=0.5.7 in /Users/kshitijgaur/langchain_env/lib/python3.11/site-packages (from langchain==0.0.284->-r requirements.txt (line 1)) (0.5.14)\n",
      "Requirement already satisfied: langsmith<0.1.0,>=0.0.21 in /Users/kshitijgaur/langchain_env/lib/python3.11/site-packages (from langchain==0.0.284->-r requirements.txt (line 1)) (0.0.92)\n",
      "Requirement already satisfied: numexpr<3.0.0,>=2.8.4 in /Users/kshitijgaur/langchain_env/lib/python3.11/site-packages (from langchain==0.0.284->-r requirements.txt (line 1)) (2.10.2)\n",
      "Requirement already satisfied: numpy<2,>=1 in /Users/kshitijgaur/langchain_env/lib/python3.11/site-packages (from langchain==0.0.284->-r requirements.txt (line 1)) (1.26.4)\n",
      "Requirement already satisfied: pydantic<3,>=1 in /Users/kshitijgaur/langchain_env/lib/python3.11/site-packages (from langchain==0.0.284->-r requirements.txt (line 1)) (2.9.2)\n",
      "Requirement already satisfied: requests<3,>=2 in /Users/kshitijgaur/langchain_env/lib/python3.11/site-packages (from langchain==0.0.284->-r requirements.txt (line 1)) (2.32.3)\n",
      "Requirement already satisfied: tenacity<9.0.0,>=8.1.0 in /Users/kshitijgaur/langchain_env/lib/python3.11/site-packages (from langchain==0.0.284->-r requirements.txt (line 1)) (8.5.0)\n",
      "Requirement already satisfied: altair<5,>=3.2.0 in /Users/kshitijgaur/langchain_env/lib/python3.11/site-packages (from streamlit==1.22.0->-r requirements.txt (line 3)) (4.2.2)\n",
      "Requirement already satisfied: blinker>=1.0.0 in /Users/kshitijgaur/langchain_env/lib/python3.11/site-packages (from streamlit==1.22.0->-r requirements.txt (line 3)) (1.9.0)\n",
      "Requirement already satisfied: cachetools>=4.0 in /Users/kshitijgaur/langchain_env/lib/python3.11/site-packages (from streamlit==1.22.0->-r requirements.txt (line 3)) (5.5.0)\n",
      "Requirement already satisfied: click>=7.0 in /Users/kshitijgaur/langchain_env/lib/python3.11/site-packages (from streamlit==1.22.0->-r requirements.txt (line 3)) (8.1.8)\n",
      "Requirement already satisfied: importlib-metadata>=1.4 in /Users/kshitijgaur/langchain_env/lib/python3.11/site-packages (from streamlit==1.22.0->-r requirements.txt (line 3)) (8.5.0)\n",
      "Requirement already satisfied: packaging>=14.1 in /Users/kshitijgaur/langchain_env/lib/python3.11/site-packages (from streamlit==1.22.0->-r requirements.txt (line 3)) (24.2)\n",
      "Requirement already satisfied: pandas<3,>=0.25 in /Users/kshitijgaur/langchain_env/lib/python3.11/site-packages (from streamlit==1.22.0->-r requirements.txt (line 3)) (2.2.3)\n",
      "Requirement already satisfied: pillow>=6.2.0 in /Users/kshitijgaur/langchain_env/lib/python3.11/site-packages (from streamlit==1.22.0->-r requirements.txt (line 3)) (11.1.0)\n",
      "Requirement already satisfied: protobuf<4,>=3.12 in /Users/kshitijgaur/langchain_env/lib/python3.11/site-packages (from streamlit==1.22.0->-r requirements.txt (line 3)) (3.20.3)\n",
      "Requirement already satisfied: pyarrow>=4.0 in /Users/kshitijgaur/langchain_env/lib/python3.11/site-packages (from streamlit==1.22.0->-r requirements.txt (line 3)) (18.1.0)\n",
      "Requirement already satisfied: pympler>=0.9 in /Users/kshitijgaur/langchain_env/lib/python3.11/site-packages (from streamlit==1.22.0->-r requirements.txt (line 3)) (1.1)\n",
      "Requirement already satisfied: python-dateutil in /Users/kshitijgaur/langchain_env/lib/python3.11/site-packages (from streamlit==1.22.0->-r requirements.txt (line 3)) (2.9.0.post0)\n",
      "Requirement already satisfied: rich>=10.11.0 in /Users/kshitijgaur/langchain_env/lib/python3.11/site-packages (from streamlit==1.22.0->-r requirements.txt (line 3)) (13.9.4)\n",
      "Requirement already satisfied: toml in /Users/kshitijgaur/langchain_env/lib/python3.11/site-packages (from streamlit==1.22.0->-r requirements.txt (line 3)) (0.10.2)\n",
      "Requirement already satisfied: typing-extensions>=3.10.0.0 in /Users/kshitijgaur/langchain_env/lib/python3.11/site-packages (from streamlit==1.22.0->-r requirements.txt (line 3)) (4.12.2)\n",
      "Requirement already satisfied: tzlocal>=1.1 in /Users/kshitijgaur/langchain_env/lib/python3.11/site-packages (from streamlit==1.22.0->-r requirements.txt (line 3)) (5.2)\n",
      "Requirement already satisfied: validators>=0.2 in /Users/kshitijgaur/langchain_env/lib/python3.11/site-packages (from streamlit==1.22.0->-r requirements.txt (line 3)) (0.34.0)\n",
      "Requirement already satisfied: gitpython!=3.1.19 in /Users/kshitijgaur/langchain_env/lib/python3.11/site-packages (from streamlit==1.22.0->-r requirements.txt (line 3)) (3.1.44)\n",
      "Requirement already satisfied: pydeck>=0.1.dev5 in /Users/kshitijgaur/langchain_env/lib/python3.11/site-packages (from streamlit==1.22.0->-r requirements.txt (line 3)) (0.9.1)\n",
      "Requirement already satisfied: tornado>=6.0.3 in /Users/kshitijgaur/langchain_env/lib/python3.11/site-packages (from streamlit==1.22.0->-r requirements.txt (line 3)) (6.4.2)\n",
      "Requirement already satisfied: chardet in /Users/kshitijgaur/langchain_env/lib/python3.11/site-packages (from unstructured==0.9.2->-r requirements.txt (line 4)) (5.2.0)\n",
      "Requirement already satisfied: filetype in /Users/kshitijgaur/langchain_env/lib/python3.11/site-packages (from unstructured==0.9.2->-r requirements.txt (line 4)) (1.2.0)\n",
      "Requirement already satisfied: lxml in /Users/kshitijgaur/langchain_env/lib/python3.11/site-packages (from unstructured==0.9.2->-r requirements.txt (line 4)) (5.3.0)\n",
      "Requirement already satisfied: nltk in /Users/kshitijgaur/langchain_env/lib/python3.11/site-packages (from unstructured==0.9.2->-r requirements.txt (line 4)) (3.9.1)\n",
      "Requirement already satisfied: tabulate in /Users/kshitijgaur/langchain_env/lib/python3.11/site-packages (from unstructured==0.9.2->-r requirements.txt (line 4)) (0.9.0)\n",
      "Requirement already satisfied: regex>=2022.1.18 in /Users/kshitijgaur/langchain_env/lib/python3.11/site-packages (from tiktoken==0.4.0->-r requirements.txt (line 5)) (2024.11.6)\n",
      "Requirement already satisfied: tqdm in /Users/kshitijgaur/langchain_env/lib/python3.11/site-packages (from OpenAI==0.28.0->-r requirements.txt (line 10)) (4.67.1)\n",
      "Requirement already satisfied: aiohappyeyeballs>=2.3.0 in /Users/kshitijgaur/langchain_env/lib/python3.11/site-packages (from aiohttp<4.0.0,>=3.8.3->langchain==0.0.284->-r requirements.txt (line 1)) (2.4.4)\n",
      "Requirement already satisfied: aiosignal>=1.1.2 in /Users/kshitijgaur/langchain_env/lib/python3.11/site-packages (from aiohttp<4.0.0,>=3.8.3->langchain==0.0.284->-r requirements.txt (line 1)) (1.3.2)\n",
      "Requirement already satisfied: attrs>=17.3.0 in /Users/kshitijgaur/langchain_env/lib/python3.11/site-packages (from aiohttp<4.0.0,>=3.8.3->langchain==0.0.284->-r requirements.txt (line 1)) (24.3.0)\n",
      "Requirement already satisfied: frozenlist>=1.1.1 in /Users/kshitijgaur/langchain_env/lib/python3.11/site-packages (from aiohttp<4.0.0,>=3.8.3->langchain==0.0.284->-r requirements.txt (line 1)) (1.5.0)\n",
      "Requirement already satisfied: multidict<7.0,>=4.5 in /Users/kshitijgaur/langchain_env/lib/python3.11/site-packages (from aiohttp<4.0.0,>=3.8.3->langchain==0.0.284->-r requirements.txt (line 1)) (6.1.0)\n",
      "Requirement already satisfied: propcache>=0.2.0 in /Users/kshitijgaur/langchain_env/lib/python3.11/site-packages (from aiohttp<4.0.0,>=3.8.3->langchain==0.0.284->-r requirements.txt (line 1)) (0.2.1)\n",
      "Requirement already satisfied: yarl<2.0,>=1.17.0 in /Users/kshitijgaur/langchain_env/lib/python3.11/site-packages (from aiohttp<4.0.0,>=3.8.3->langchain==0.0.284->-r requirements.txt (line 1)) (1.18.3)\n",
      "Requirement already satisfied: entrypoints in /Users/kshitijgaur/langchain_env/lib/python3.11/site-packages (from altair<5,>=3.2.0->streamlit==1.22.0->-r requirements.txt (line 3)) (0.4)\n",
      "Requirement already satisfied: jinja2 in /Users/kshitijgaur/langchain_env/lib/python3.11/site-packages (from altair<5,>=3.2.0->streamlit==1.22.0->-r requirements.txt (line 3)) (3.1.5)\n",
      "Requirement already satisfied: jsonschema>=3.0 in /Users/kshitijgaur/langchain_env/lib/python3.11/site-packages (from altair<5,>=3.2.0->streamlit==1.22.0->-r requirements.txt (line 3)) (4.23.0)\n",
      "Requirement already satisfied: toolz in /Users/kshitijgaur/langchain_env/lib/python3.11/site-packages (from altair<5,>=3.2.0->streamlit==1.22.0->-r requirements.txt (line 3)) (1.0.0)\n",
      "Requirement already satisfied: marshmallow<4.0.0,>=3.18.0 in /Users/kshitijgaur/langchain_env/lib/python3.11/site-packages (from dataclasses-json<0.6.0,>=0.5.7->langchain==0.0.284->-r requirements.txt (line 1)) (3.23.3)\n",
      "Requirement already satisfied: typing-inspect<1,>=0.4.0 in /Users/kshitijgaur/langchain_env/lib/python3.11/site-packages (from dataclasses-json<0.6.0,>=0.5.7->langchain==0.0.284->-r requirements.txt (line 1)) (0.9.0)\n",
      "Requirement already satisfied: gitdb<5,>=4.0.1 in /Users/kshitijgaur/langchain_env/lib/python3.11/site-packages (from gitpython!=3.1.19->streamlit==1.22.0->-r requirements.txt (line 3)) (4.0.12)\n",
      "Requirement already satisfied: zipp>=3.20 in /Users/kshitijgaur/langchain_env/lib/python3.11/site-packages (from importlib-metadata>=1.4->streamlit==1.22.0->-r requirements.txt (line 3)) (3.21.0)\n",
      "Requirement already satisfied: pytz>=2020.1 in /Users/kshitijgaur/langchain_env/lib/python3.11/site-packages (from pandas<3,>=0.25->streamlit==1.22.0->-r requirements.txt (line 3)) (2024.2)\n",
      "Requirement already satisfied: tzdata>=2022.7 in /Users/kshitijgaur/langchain_env/lib/python3.11/site-packages (from pandas<3,>=0.25->streamlit==1.22.0->-r requirements.txt (line 3)) (2024.2)\n",
      "Requirement already satisfied: annotated-types>=0.6.0 in /Users/kshitijgaur/langchain_env/lib/python3.11/site-packages (from pydantic<3,>=1->langchain==0.0.284->-r requirements.txt (line 1)) (0.7.0)\n",
      "Requirement already satisfied: pydantic-core==2.23.4 in /Users/kshitijgaur/langchain_env/lib/python3.11/site-packages (from pydantic<3,>=1->langchain==0.0.284->-r requirements.txt (line 1)) (2.23.4)\n",
      "Requirement already satisfied: six>=1.5 in /Users/kshitijgaur/langchain_env/lib/python3.11/site-packages (from python-dateutil->streamlit==1.22.0->-r requirements.txt (line 3)) (1.17.0)\n",
      "Requirement already satisfied: charset-normalizer<4,>=2 in /Users/kshitijgaur/langchain_env/lib/python3.11/site-packages (from requests<3,>=2->langchain==0.0.284->-r requirements.txt (line 1)) (3.4.1)\n",
      "Requirement already satisfied: idna<4,>=2.5 in /Users/kshitijgaur/langchain_env/lib/python3.11/site-packages (from requests<3,>=2->langchain==0.0.284->-r requirements.txt (line 1)) (3.10)\n",
      "Requirement already satisfied: urllib3<3,>=1.21.1 in /Users/kshitijgaur/langchain_env/lib/python3.11/site-packages (from requests<3,>=2->langchain==0.0.284->-r requirements.txt (line 1)) (2.3.0)\n",
      "Requirement already satisfied: certifi>=2017.4.17 in /Users/kshitijgaur/langchain_env/lib/python3.11/site-packages (from requests<3,>=2->langchain==0.0.284->-r requirements.txt (line 1)) (2024.12.14)\n",
      "Requirement already satisfied: markdown-it-py>=2.2.0 in /Users/kshitijgaur/langchain_env/lib/python3.11/site-packages (from rich>=10.11.0->streamlit==1.22.0->-r requirements.txt (line 3)) (3.0.0)\n",
      "Requirement already satisfied: pygments<3.0.0,>=2.13.0 in /Users/kshitijgaur/langchain_env/lib/python3.11/site-packages (from rich>=10.11.0->streamlit==1.22.0->-r requirements.txt (line 3)) (2.18.0)\n",
      "Requirement already satisfied: greenlet!=0.4.17 in /Users/kshitijgaur/langchain_env/lib/python3.11/site-packages (from SQLAlchemy<3,>=1.4->langchain==0.0.284->-r requirements.txt (line 1)) (3.1.1)\n",
      "Requirement already satisfied: joblib in /Users/kshitijgaur/langchain_env/lib/python3.11/site-packages (from nltk->unstructured==0.9.2->-r requirements.txt (line 4)) (1.4.2)\n",
      "Requirement already satisfied: smmap<6,>=3.0.1 in /Users/kshitijgaur/langchain_env/lib/python3.11/site-packages (from gitdb<5,>=4.0.1->gitpython!=3.1.19->streamlit==1.22.0->-r requirements.txt (line 3)) (5.0.2)\n",
      "Requirement already satisfied: MarkupSafe>=2.0 in /Users/kshitijgaur/langchain_env/lib/python3.11/site-packages (from jinja2->altair<5,>=3.2.0->streamlit==1.22.0->-r requirements.txt (line 3)) (3.0.2)\n",
      "Requirement already satisfied: jsonschema-specifications>=2023.03.6 in /Users/kshitijgaur/langchain_env/lib/python3.11/site-packages (from jsonschema>=3.0->altair<5,>=3.2.0->streamlit==1.22.0->-r requirements.txt (line 3)) (2024.10.1)\n",
      "Requirement already satisfied: referencing>=0.28.4 in /Users/kshitijgaur/langchain_env/lib/python3.11/site-packages (from jsonschema>=3.0->altair<5,>=3.2.0->streamlit==1.22.0->-r requirements.txt (line 3)) (0.35.1)\n",
      "Requirement already satisfied: rpds-py>=0.7.1 in /Users/kshitijgaur/langchain_env/lib/python3.11/site-packages (from jsonschema>=3.0->altair<5,>=3.2.0->streamlit==1.22.0->-r requirements.txt (line 3)) (0.22.3)\n",
      "Requirement already satisfied: mdurl~=0.1 in /Users/kshitijgaur/langchain_env/lib/python3.11/site-packages (from markdown-it-py>=2.2.0->rich>=10.11.0->streamlit==1.22.0->-r requirements.txt (line 3)) (0.1.2)\n",
      "Requirement already satisfied: mypy-extensions>=0.3.0 in /Users/kshitijgaur/langchain_env/lib/python3.11/site-packages (from typing-inspect<1,>=0.4.0->dataclasses-json<0.6.0,>=0.5.7->langchain==0.0.284->-r requirements.txt (line 1)) (1.0.0)\n",
      "Note: you may need to restart the kernel to use updated packages.\n"
     ]
    }
   ],
   "source": [
    "pip install -r requirements.txt"
   ]
  },
  {
   "cell_type": "code",
   "execution_count": 13,
   "id": "e3d85b9f-543e-427a-a38a-e0be1373c994",
   "metadata": {
    "scrolled": true
   },
   "outputs": [
    {
     "name": "stdout",
     "output_type": "stream",
     "text": [
      "Name: langchain-core\n",
      "Version: 0.3.29\n",
      "Summary: Building applications with LLMs through composability\n",
      "Home-page: https://github.com/langchain-ai/langchain\n",
      "Author: \n",
      "Author-email: \n",
      "License: MIT\n",
      "Location: /Users/kshitijgaur/langchain_env/lib/python3.11/site-packages\n",
      "Requires: jsonpatch, langsmith, packaging, pydantic, PyYAML, tenacity, typing-extensions\n",
      "Required-by: langchain-community, langchain-text-splitters\n",
      "---\n",
      "Name: langsmith\n",
      "Version: 0.2.10\n",
      "Summary: Client library to connect to the LangSmith LLM Tracing and Evaluation Platform.\n",
      "Home-page: https://smith.langchain.com/\n",
      "Author: LangChain\n",
      "Author-email: support@langchain.dev\n",
      "License: MIT\n",
      "Location: /Users/kshitijgaur/langchain_env/lib/python3.11/site-packages\n",
      "Requires: httpx, orjson, pydantic, requests, requests-toolbelt\n",
      "Required-by: langchain, langchain-community, langchain-core\n",
      "---\n",
      "Name: langchain-community\n",
      "Version: 0.3.14\n",
      "Summary: Community contributed LangChain integrations.\n",
      "Home-page: https://github.com/langchain-ai/langchain\n",
      "Author: \n",
      "Author-email: \n",
      "License: MIT\n",
      "Location: /Users/kshitijgaur/langchain_env/lib/python3.11/site-packages\n",
      "Requires: aiohttp, dataclasses-json, httpx-sse, langchain, langchain-core, langsmith, numpy, pydantic-settings, PyYAML, requests, SQLAlchemy, tenacity\n",
      "Required-by: \n",
      "Note: you may need to restart the kernel to use updated packages.\n"
     ]
    }
   ],
   "source": [
    "pip show langchain-core langsmith langchain-community"
   ]
  },
  {
   "cell_type": "code",
   "execution_count": 2,
   "id": "157e710a-2e76-41da-92f5-0bd7205f9e56",
   "metadata": {},
   "outputs": [],
   "source": [
    "import os\n",
    "import streamlit as st\n",
    "import pickle\n",
    "import time\n",
    "from langchain import OpenAI\n",
    "from langchain.chains import RetrievalQAWithSourcesChain\n",
    "from langchain.text_splitter import RecursiveCharacterTextSplitter\n",
    "from langchain.document_loaders import UnstructuredURLLoader\n",
    "from langchain.embeddings import OpenAIEmbeddings\n",
    "from langchain.vectorstores import FAISS"
   ]
  },
  {
   "cell_type": "code",
   "execution_count": 3,
   "id": "6a143f69-cefa-40f9-9a90-a7f3c8ecb5db",
   "metadata": {},
   "outputs": [
    {
     "name": "stdout",
     "output_type": "stream",
     "text": [
      "Requirement already satisfied: python-dotenv in /Users/kshitijgaur/langchain_env/lib/python3.11/site-packages (1.0.0)\n",
      "Note: you may need to restart the kernel to use updated packages.\n"
     ]
    }
   ],
   "source": [
    "pip install python-dotenv"
   ]
  },
  {
   "cell_type": "code",
   "execution_count": null,
   "id": "4976846f-3eaf-4343-afee-5f2456700cb7",
   "metadata": {},
   "outputs": [],
   "source": []
  }
 ],
 "metadata": {
  "kernelspec": {
   "display_name": "Python 3 (ipykernel)",
   "language": "python",
   "name": "python3"
  },
  "language_info": {
   "codemirror_mode": {
    "name": "ipython",
    "version": 3
   },
   "file_extension": ".py",
   "mimetype": "text/x-python",
   "name": "python",
   "nbconvert_exporter": "python",
   "pygments_lexer": "ipython3",
   "version": "3.11.3"
  }
 },
 "nbformat": 4,
 "nbformat_minor": 5
}
